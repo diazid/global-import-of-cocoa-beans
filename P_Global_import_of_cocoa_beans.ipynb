{
  "nbformat": 4,
  "nbformat_minor": 0,
  "metadata": {
    "colab": {
      "provenance": []
    },
    "kernelspec": {
      "name": "python3",
      "display_name": "Python 3"
    },
    "language_info": {
      "name": "python"
    }
  },
  "cells": [
    {
      "cell_type": "markdown",
      "source": [
        "# REPRODUCING GLOBAL IMPORTS OF COCOA GRAPH\n",
        "\n",
        "Name: Israel Diaz"
      ],
      "metadata": {
        "id": "98yXX3pjH5vF"
      }
    },
    {
      "cell_type": "markdown",
      "source": [
        "### Description:\n",
        "\n",
        "Makeover Monday offers a weekly challenge to re-create or improve data visualizations. Your task is to choose one of the data visualizations to re-create or improve!"
      ],
      "metadata": {
        "id": "_XF9M6419oAB"
      }
    },
    {
      "cell_type": "markdown",
      "source": [
        "I have chosen the `2020/W52: Global import of cocoa beans` data, and the graph that I will be reproducing is that follows:\n",
        "\n",
        "![](https://media.data.world/svktJ3mRXW9jEdmci47y_Screenshot%202020-12-26%20at%2017.32.12.png)\n",
        "\n"
      ],
      "metadata": {
        "id": "2FbezIJg97qD"
      }
    },
    {
      "cell_type": "markdown",
      "source": [
        "## Assignment"
      ],
      "metadata": {
        "id": "wJrZL3129ywT"
      }
    },
    {
      "cell_type": "markdown",
      "source": [
        "Importing libraries"
      ],
      "metadata": {
        "id": "m-Waj7pU-byd"
      }
    },
    {
      "cell_type": "code",
      "execution_count": 1,
      "metadata": {
        "id": "0tb2h27-H4q4"
      },
      "outputs": [],
      "source": [
        "import pandas as pd\n",
        "from matplotlib import pyplot as plt\n",
        "from matplotlib.lines import Line2D\n",
        "import seaborn as sns"
      ]
    },
    {
      "cell_type": "markdown",
      "source": [
        "Loading the data"
      ],
      "metadata": {
        "id": "8yo3GnMePvBE"
      }
    },
    {
      "cell_type": "code",
      "source": [
        "url = 'https://query.data.world/s/jxjriaqidguormcwv22fjxzyn6hocg'\n",
        "df = pd.read_excel(url)\n",
        "\n",
        "df.head()"
      ],
      "metadata": {
        "colab": {
          "base_uri": "https://localhost:8080/",
          "height": 206
        },
        "id": "5cLZnLmuJRSg",
        "outputId": "77a42ef3-1543-4d8d-c1a9-87f792831c07"
      },
      "execution_count": 2,
      "outputs": [
        {
          "output_type": "execute_result",
          "data": {
            "text/plain": [
              "           Region    Year  Import in tonnes\n",
              "0  Asia & Oceania  2015.0          565000.0\n",
              "1  Asia & Oceania  2016.0          592000.0\n",
              "2  Asia & Oceania  2017.0          866000.0\n",
              "3  Asia & Oceania  2018.0          927000.0\n",
              "4  Asia & Oceania  2019.0          924000.0"
            ],
            "text/html": [
              "\n",
              "  <div id=\"df-11b50244-c41e-4ef7-8833-b608bda6693b\">\n",
              "    <div class=\"colab-df-container\">\n",
              "      <div>\n",
              "<style scoped>\n",
              "    .dataframe tbody tr th:only-of-type {\n",
              "        vertical-align: middle;\n",
              "    }\n",
              "\n",
              "    .dataframe tbody tr th {\n",
              "        vertical-align: top;\n",
              "    }\n",
              "\n",
              "    .dataframe thead th {\n",
              "        text-align: right;\n",
              "    }\n",
              "</style>\n",
              "<table border=\"1\" class=\"dataframe\">\n",
              "  <thead>\n",
              "    <tr style=\"text-align: right;\">\n",
              "      <th></th>\n",
              "      <th>Region</th>\n",
              "      <th>Year</th>\n",
              "      <th>Import in tonnes</th>\n",
              "    </tr>\n",
              "  </thead>\n",
              "  <tbody>\n",
              "    <tr>\n",
              "      <th>0</th>\n",
              "      <td>Asia &amp; Oceania</td>\n",
              "      <td>2015.0</td>\n",
              "      <td>565000.0</td>\n",
              "    </tr>\n",
              "    <tr>\n",
              "      <th>1</th>\n",
              "      <td>Asia &amp; Oceania</td>\n",
              "      <td>2016.0</td>\n",
              "      <td>592000.0</td>\n",
              "    </tr>\n",
              "    <tr>\n",
              "      <th>2</th>\n",
              "      <td>Asia &amp; Oceania</td>\n",
              "      <td>2017.0</td>\n",
              "      <td>866000.0</td>\n",
              "    </tr>\n",
              "    <tr>\n",
              "      <th>3</th>\n",
              "      <td>Asia &amp; Oceania</td>\n",
              "      <td>2018.0</td>\n",
              "      <td>927000.0</td>\n",
              "    </tr>\n",
              "    <tr>\n",
              "      <th>4</th>\n",
              "      <td>Asia &amp; Oceania</td>\n",
              "      <td>2019.0</td>\n",
              "      <td>924000.0</td>\n",
              "    </tr>\n",
              "  </tbody>\n",
              "</table>\n",
              "</div>\n",
              "      <button class=\"colab-df-convert\" onclick=\"convertToInteractive('df-11b50244-c41e-4ef7-8833-b608bda6693b')\"\n",
              "              title=\"Convert this dataframe to an interactive table.\"\n",
              "              style=\"display:none;\">\n",
              "        \n",
              "  <svg xmlns=\"http://www.w3.org/2000/svg\" height=\"24px\"viewBox=\"0 0 24 24\"\n",
              "       width=\"24px\">\n",
              "    <path d=\"M0 0h24v24H0V0z\" fill=\"none\"/>\n",
              "    <path d=\"M18.56 5.44l.94 2.06.94-2.06 2.06-.94-2.06-.94-.94-2.06-.94 2.06-2.06.94zm-11 1L8.5 8.5l.94-2.06 2.06-.94-2.06-.94L8.5 2.5l-.94 2.06-2.06.94zm10 10l.94 2.06.94-2.06 2.06-.94-2.06-.94-.94-2.06-.94 2.06-2.06.94z\"/><path d=\"M17.41 7.96l-1.37-1.37c-.4-.4-.92-.59-1.43-.59-.52 0-1.04.2-1.43.59L10.3 9.45l-7.72 7.72c-.78.78-.78 2.05 0 2.83L4 21.41c.39.39.9.59 1.41.59.51 0 1.02-.2 1.41-.59l7.78-7.78 2.81-2.81c.8-.78.8-2.07 0-2.86zM5.41 20L4 18.59l7.72-7.72 1.47 1.35L5.41 20z\"/>\n",
              "  </svg>\n",
              "      </button>\n",
              "      \n",
              "  <style>\n",
              "    .colab-df-container {\n",
              "      display:flex;\n",
              "      flex-wrap:wrap;\n",
              "      gap: 12px;\n",
              "    }\n",
              "\n",
              "    .colab-df-convert {\n",
              "      background-color: #E8F0FE;\n",
              "      border: none;\n",
              "      border-radius: 50%;\n",
              "      cursor: pointer;\n",
              "      display: none;\n",
              "      fill: #1967D2;\n",
              "      height: 32px;\n",
              "      padding: 0 0 0 0;\n",
              "      width: 32px;\n",
              "    }\n",
              "\n",
              "    .colab-df-convert:hover {\n",
              "      background-color: #E2EBFA;\n",
              "      box-shadow: 0px 1px 2px rgba(60, 64, 67, 0.3), 0px 1px 3px 1px rgba(60, 64, 67, 0.15);\n",
              "      fill: #174EA6;\n",
              "    }\n",
              "\n",
              "    [theme=dark] .colab-df-convert {\n",
              "      background-color: #3B4455;\n",
              "      fill: #D2E3FC;\n",
              "    }\n",
              "\n",
              "    [theme=dark] .colab-df-convert:hover {\n",
              "      background-color: #434B5C;\n",
              "      box-shadow: 0px 1px 3px 1px rgba(0, 0, 0, 0.15);\n",
              "      filter: drop-shadow(0px 1px 2px rgba(0, 0, 0, 0.3));\n",
              "      fill: #FFFFFF;\n",
              "    }\n",
              "  </style>\n",
              "\n",
              "      <script>\n",
              "        const buttonEl =\n",
              "          document.querySelector('#df-11b50244-c41e-4ef7-8833-b608bda6693b button.colab-df-convert');\n",
              "        buttonEl.style.display =\n",
              "          google.colab.kernel.accessAllowed ? 'block' : 'none';\n",
              "\n",
              "        async function convertToInteractive(key) {\n",
              "          const element = document.querySelector('#df-11b50244-c41e-4ef7-8833-b608bda6693b');\n",
              "          const dataTable =\n",
              "            await google.colab.kernel.invokeFunction('convertToInteractive',\n",
              "                                                     [key], {});\n",
              "          if (!dataTable) return;\n",
              "\n",
              "          const docLinkHtml = 'Like what you see? Visit the ' +\n",
              "            '<a target=\"_blank\" href=https://colab.research.google.com/notebooks/data_table.ipynb>data table notebook</a>'\n",
              "            + ' to learn more about interactive tables.';\n",
              "          element.innerHTML = '';\n",
              "          dataTable['output_type'] = 'display_data';\n",
              "          await google.colab.output.renderOutput(dataTable, element);\n",
              "          const docLink = document.createElement('div');\n",
              "          docLink.innerHTML = docLinkHtml;\n",
              "          element.appendChild(docLink);\n",
              "        }\n",
              "      </script>\n",
              "    </div>\n",
              "  </div>\n",
              "  "
            ]
          },
          "metadata": {},
          "execution_count": 2
        }
      ]
    },
    {
      "cell_type": "code",
      "source": [
        "df['Import in tonnes'] = df['Import in tonnes'] / 1000"
      ],
      "metadata": {
        "id": "Onpghbil_X8D"
      },
      "execution_count": 3,
      "outputs": []
    },
    {
      "cell_type": "markdown",
      "source": [
        "Building the graph"
      ],
      "metadata": {
        "id": "nJ6rl_vG_TF2"
      }
    },
    {
      "cell_type": "code",
      "source": [
        "\n",
        "#setting style\n",
        "sns.set_style(\"whitegrid\")\n",
        "\n",
        "#graph\n",
        "g = sns.factorplot(data=df,\n",
        "            kind = 'bar',\n",
        "            x='Region',\n",
        "            y='Import in tonnes',\n",
        "            hue='Year',\n",
        "            order = ['Asia & Oceania', 'Americas', 'Europe'],\n",
        "            height=5,\n",
        "            aspect = 3,\n",
        "            palette = ['#2962ff', '#ffd600', '#00e676', '#81d4fa', '#d50000'],\n",
        "            legend = None\n",
        "            )\n",
        "\n",
        "#titles\n",
        "plt.title('in 1000 tonnes', fontsize=13, loc='center')\n",
        "g.fig.suptitle('Figure 1: Global imports of cocoa beans per Region',fontsize=20)\n",
        "\n",
        "#setting other aesthetic parameters\n",
        "g.set_axis_labels(\"\", \"\")\n",
        "g.fig.subplots_adjust(top=.85)\n",
        "g.set(ylim=(0, 3500))\n",
        "plt.yticks([0, 1000, 2000, 3000], ['0','1k', '2k', '3k'])\n",
        "\n",
        "##Legend (built consulting the matplotlib documentation, almost an infinite try xD)\n",
        "msize = 15\n",
        "legend_elements = [Line2D([0], [0], color='#2962ff', linewidth=0, marker='o', label='2015', markersize=msize),\n",
        "                   Line2D([0], [0], color='#ffd600', linewidth=0, marker='o', label='2016', markersize=msize),\n",
        "                   Line2D([0], [0], color='#00e676', linewidth=0, marker='o', label='2017', markersize=msize),\n",
        "                   Line2D([0], [0], color='#81d4fa', linewidth=0, marker='o', label='2018', markersize=msize),\n",
        "                   Line2D([0], [0], color='#d50000', linewidth=0, marker='o', label='2019', markersize=msize)]\n",
        "\n",
        "plt.legend(loc='best', \n",
        "           bbox_to_anchor = (0.72, -0.1), \n",
        "           ncol = 5, frameon = False, \n",
        "           title=False, \n",
        "           handles=legend_elements,\n",
        "           prop = {'weight':'bold', 'size':12},\n",
        "           )\n",
        "##Legend\n",
        "\n",
        "#frame off\n",
        "g.despine(left=True)\n",
        "plt.show()"
      ],
      "metadata": {
        "id": "wNihmqLnJabt",
        "colab": {
          "base_uri": "https://localhost:8080/",
          "height": 381
        },
        "outputId": "600ddebb-a973-43fc-a56d-c3306c32f5d0"
      },
      "execution_count": 4,
      "outputs": [
        {
          "output_type": "stream",
          "name": "stderr",
          "text": [
            "/usr/local/lib/python3.8/dist-packages/seaborn/categorical.py:3717: UserWarning: The `factorplot` function has been renamed to `catplot`. The original name will be removed in a future release. Please update your code. Note that the default `kind` in `factorplot` (`'point'`) has changed `'strip'` in `catplot`.\n",
            "  warnings.warn(msg)\n"
          ]
        },
        {
          "output_type": "display_data",
          "data": {
            "text/plain": [
              "<Figure size 1080x360 with 1 Axes>"
            ],
            "image/png": "[encoded data removed]"
          },
          "metadata": {}
        }
      ]
    },
    {
      "cell_type": "markdown",
      "source": [
        "The graph is not exactly the same because I failed to change the bin width, lots of errors, but it is still good looking. "
      ],
      "metadata": {
        "id": "W8pXX5gkQXki"
      }
    },
    {
      "cell_type": "code",
      "source": [],
      "metadata": {
        "id": "i4aCqp9ONhfy"
      },
      "execution_count": 4,
      "outputs": []
    }
  ]
}